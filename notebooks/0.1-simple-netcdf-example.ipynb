{
 "cells": [
  {
   "cell_type": "code",
   "execution_count": 1,
   "id": "c6d2dd6b",
   "metadata": {},
   "outputs": [
    {
     "name": "stdout",
     "output_type": "stream",
     "text": [
      "v320-002.ls6.tacc.utexas.edu\n"
     ]
    }
   ],
   "source": [
    "!hostname"
   ]
  },
  {
   "cell_type": "code",
   "execution_count": 2,
   "id": "9e07fc93",
   "metadata": {},
   "outputs": [],
   "source": [
    "import os\n",
    "import xarray as xr\n",
    "import pandas as pd\n",
    "pd.options.plotting.backend ='plotly'\n",
    "\n",
    "import os\n",
    "\n",
    "WORK = os.environ.get('WORK')\n",
    "SCRATCH = os.environ.get('SCRATCH')"
   ]
  },
  {
   "cell_type": "code",
   "execution_count": 3,
   "id": "f1fbedd8",
   "metadata": {},
   "outputs": [],
   "source": [
    "ROOT_DIR = '/scratch/09295/naveens/hindcast'"
   ]
  },
  {
   "cell_type": "code",
   "execution_count": 4,
   "id": "40e99f50",
   "metadata": {},
   "outputs": [],
   "source": [
    "## Permission error for graphcast stuff\n",
    "# graphcast_files = [filename for filename in os.listdir(ROOT_DIR) if ('graphcast' in filename) and ('.nc' in filename)]\n",
    "# xr.open_dataset(f'{ROOT_DIR}/{graphcast_files[0]}')"
   ]
  },
  {
   "cell_type": "markdown",
   "id": "8887c01d",
   "metadata": {},
   "source": [
    "```\n",
    "unique_filenames = set([fn.rsplit('_',maxsplit=1)[0] for fn in os.listdir(f'{ROOT_DIR}/1979')])\n",
    "unique_filenames\n",
    "```\n",
    "The available file types for 1979 appear to be:\n",
    "'q_pressure_levels',\n",
    "'surface_variables',\n",
    "'t_pressure_levels',\n",
    "'u_pressure_levels',\n",
    "'v_pressure_levels',\n",
    "'w_pressure_levels',\n",
    "'z_pressure_levels'\n",
    "\n",
    "For precipation, we care about the surface variables file."
   ]
  },
  {
   "cell_type": "code",
   "execution_count": 5,
   "id": "185a6915",
   "metadata": {},
   "outputs": [],
   "source": [
    "class nCDF_Reader:\n",
    "    FILE_PREFIXES = [\n",
    "        'surface_variables',\n",
    "    ]\n",
    "    def __init__(self,root_dir='/scratch/09295/naveens/hindcast/') -> None:\n",
    "        self.root_dir = root_dir\n",
    "        self.dset = None\n",
    "\n",
    "    def set_file(self,date):\n",
    "        dsets = {\n",
    "            prefix:xr.open_dataset(f\"{self.root_dir}/{date.split('-',maxsplit=1)[0]}/{prefix}_{date}.nc\",engine='h5netcdf')\n",
    "            for prefix in self.FILE_PREFIXES\n",
    "        }\n",
    "        self.dsets = dsets\n",
    "    \n",
    "    def select(self,*,lat,lon,prefix):\n",
    "        return self.dsets[prefix].sel(lat=lat,lon=lon)"
   ]
  },
  {
   "cell_type": "code",
   "execution_count": 6,
   "id": "b7b05610",
   "metadata": {},
   "outputs": [],
   "source": [
    "reader = nCDF_Reader()\n",
    "reader.set_file('1979-01-03')"
   ]
  },
  {
   "cell_type": "code",
   "execution_count": 7,
   "id": "62c6836d",
   "metadata": {},
   "outputs": [
    {
     "data": {
      "text/html": [
       "<div><svg style=\"position: absolute; width: 0; height: 0; overflow: hidden\">\n",
       "<defs>\n",
       "<symbol id=\"icon-database\" viewBox=\"0 0 32 32\">\n",
       "<path d=\"M16 0c-8.837 0-16 2.239-16 5v4c0 2.761 7.163 5 16 5s16-2.239 16-5v-4c0-2.761-7.163-5-16-5z\"></path>\n",
       "<path d=\"M16 17c-8.837 0-16-2.239-16-5v6c0 2.761 7.163 5 16 5s16-2.239 16-5v-6c0 2.761-7.163 5-16 5z\"></path>\n",
       "<path d=\"M16 26c-8.837 0-16-2.239-16-5v6c0 2.761 7.163 5 16 5s16-2.239 16-5v-6c0 2.761-7.163 5-16 5z\"></path>\n",
       "</symbol>\n",
       "<symbol id=\"icon-file-text2\" viewBox=\"0 0 32 32\">\n",
       "<path d=\"M28.681 7.159c-0.694-0.947-1.662-2.053-2.724-3.116s-2.169-2.030-3.116-2.724c-1.612-1.182-2.393-1.319-2.841-1.319h-15.5c-1.378 0-2.5 1.121-2.5 2.5v27c0 1.378 1.122 2.5 2.5 2.5h23c1.378 0 2.5-1.122 2.5-2.5v-19.5c0-0.448-0.137-1.23-1.319-2.841zM24.543 5.457c0.959 0.959 1.712 1.825 2.268 2.543h-4.811v-4.811c0.718 0.556 1.584 1.309 2.543 2.268zM28 29.5c0 0.271-0.229 0.5-0.5 0.5h-23c-0.271 0-0.5-0.229-0.5-0.5v-27c0-0.271 0.229-0.5 0.5-0.5 0 0 15.499-0 15.5 0v7c0 0.552 0.448 1 1 1h7v19.5z\"></path>\n",
       "<path d=\"M23 26h-14c-0.552 0-1-0.448-1-1s0.448-1 1-1h14c0.552 0 1 0.448 1 1s-0.448 1-1 1z\"></path>\n",
       "<path d=\"M23 22h-14c-0.552 0-1-0.448-1-1s0.448-1 1-1h14c0.552 0 1 0.448 1 1s-0.448 1-1 1z\"></path>\n",
       "<path d=\"M23 18h-14c-0.552 0-1-0.448-1-1s0.448-1 1-1h14c0.552 0 1 0.448 1 1s-0.448 1-1 1z\"></path>\n",
       "</symbol>\n",
       "</defs>\n",
       "</svg>\n",
       "<style>/* CSS stylesheet for displaying xarray objects in jupyterlab.\n",
       " *\n",
       " */\n",
       "\n",
       ":root {\n",
       "  --xr-font-color0: var(\n",
       "    --jp-content-font-color0,\n",
       "    var(--pst-color-text-base rgba(0, 0, 0, 1))\n",
       "  );\n",
       "  --xr-font-color2: var(\n",
       "    --jp-content-font-color2,\n",
       "    var(--pst-color-text-base, rgba(0, 0, 0, 0.54))\n",
       "  );\n",
       "  --xr-font-color3: var(\n",
       "    --jp-content-font-color3,\n",
       "    var(--pst-color-text-base, rgba(0, 0, 0, 0.38))\n",
       "  );\n",
       "  --xr-border-color: var(\n",
       "    --jp-border-color2,\n",
       "    hsl(from var(--pst-color-on-background, white) h s calc(l - 10))\n",
       "  );\n",
       "  --xr-disabled-color: var(\n",
       "    --jp-layout-color3,\n",
       "    hsl(from var(--pst-color-on-background, white) h s calc(l - 40))\n",
       "  );\n",
       "  --xr-background-color: var(\n",
       "    --jp-layout-color0,\n",
       "    var(--pst-color-on-background, white)\n",
       "  );\n",
       "  --xr-background-color-row-even: var(\n",
       "    --jp-layout-color1,\n",
       "    hsl(from var(--pst-color-on-background, white) h s calc(l - 5))\n",
       "  );\n",
       "  --xr-background-color-row-odd: var(\n",
       "    --jp-layout-color2,\n",
       "    hsl(from var(--pst-color-on-background, white) h s calc(l - 15))\n",
       "  );\n",
       "}\n",
       "\n",
       "html[theme=\"dark\"],\n",
       "html[data-theme=\"dark\"],\n",
       "body[data-theme=\"dark\"],\n",
       "body.vscode-dark {\n",
       "  --xr-font-color0: var(\n",
       "    --jp-content-font-color0,\n",
       "    var(--pst-color-text-base, rgba(255, 255, 255, 1))\n",
       "  );\n",
       "  --xr-font-color2: var(\n",
       "    --jp-content-font-color2,\n",
       "    var(--pst-color-text-base, rgba(255, 255, 255, 0.54))\n",
       "  );\n",
       "  --xr-font-color3: var(\n",
       "    --jp-content-font-color3,\n",
       "    var(--pst-color-text-base, rgba(255, 255, 255, 0.38))\n",
       "  );\n",
       "  --xr-border-color: var(\n",
       "    --jp-border-color2,\n",
       "    hsl(from var(--pst-color-on-background, #111111) h s calc(l + 10))\n",
       "  );\n",
       "  --xr-disabled-color: var(\n",
       "    --jp-layout-color3,\n",
       "    hsl(from var(--pst-color-on-background, #111111) h s calc(l + 40))\n",
       "  );\n",
       "  --xr-background-color: var(\n",
       "    --jp-layout-color0,\n",
       "    var(--pst-color-on-background, #111111)\n",
       "  );\n",
       "  --xr-background-color-row-even: var(\n",
       "    --jp-layout-color1,\n",
       "    hsl(from var(--pst-color-on-background, #111111) h s calc(l + 5))\n",
       "  );\n",
       "  --xr-background-color-row-odd: var(\n",
       "    --jp-layout-color2,\n",
       "    hsl(from var(--pst-color-on-background, #111111) h s calc(l + 15))\n",
       "  );\n",
       "}\n",
       "\n",
       ".xr-wrap {\n",
       "  display: block !important;\n",
       "  min-width: 300px;\n",
       "  max-width: 700px;\n",
       "}\n",
       "\n",
       ".xr-text-repr-fallback {\n",
       "  /* fallback to plain text repr when CSS is not injected (untrusted notebook) */\n",
       "  display: none;\n",
       "}\n",
       "\n",
       ".xr-header {\n",
       "  padding-top: 6px;\n",
       "  padding-bottom: 6px;\n",
       "  margin-bottom: 4px;\n",
       "  border-bottom: solid 1px var(--xr-border-color);\n",
       "}\n",
       "\n",
       ".xr-header > div,\n",
       ".xr-header > ul {\n",
       "  display: inline;\n",
       "  margin-top: 0;\n",
       "  margin-bottom: 0;\n",
       "}\n",
       "\n",
       ".xr-obj-type,\n",
       ".xr-array-name {\n",
       "  margin-left: 2px;\n",
       "  margin-right: 10px;\n",
       "}\n",
       "\n",
       ".xr-obj-type {\n",
       "  color: var(--xr-font-color2);\n",
       "}\n",
       "\n",
       ".xr-sections {\n",
       "  padding-left: 0 !important;\n",
       "  display: grid;\n",
       "  grid-template-columns: 150px auto auto 1fr 0 20px 0 20px;\n",
       "}\n",
       "\n",
       ".xr-section-item {\n",
       "  display: contents;\n",
       "}\n",
       "\n",
       ".xr-section-item input {\n",
       "  display: inline-block;\n",
       "  opacity: 0;\n",
       "  height: 0;\n",
       "}\n",
       "\n",
       ".xr-section-item input + label {\n",
       "  color: var(--xr-disabled-color);\n",
       "  border: 2px solid transparent !important;\n",
       "}\n",
       "\n",
       ".xr-section-item input:enabled + label {\n",
       "  cursor: pointer;\n",
       "  color: var(--xr-font-color2);\n",
       "}\n",
       "\n",
       ".xr-section-item input:focus + label {\n",
       "  border: 2px solid var(--xr-font-color0) !important;\n",
       "}\n",
       "\n",
       ".xr-section-item input:enabled + label:hover {\n",
       "  color: var(--xr-font-color0);\n",
       "}\n",
       "\n",
       ".xr-section-summary {\n",
       "  grid-column: 1;\n",
       "  color: var(--xr-font-color2);\n",
       "  font-weight: 500;\n",
       "}\n",
       "\n",
       ".xr-section-summary > span {\n",
       "  display: inline-block;\n",
       "  padding-left: 0.5em;\n",
       "}\n",
       "\n",
       ".xr-section-summary-in:disabled + label {\n",
       "  color: var(--xr-font-color2);\n",
       "}\n",
       "\n",
       ".xr-section-summary-in + label:before {\n",
       "  display: inline-block;\n",
       "  content: \"►\";\n",
       "  font-size: 11px;\n",
       "  width: 15px;\n",
       "  text-align: center;\n",
       "}\n",
       "\n",
       ".xr-section-summary-in:disabled + label:before {\n",
       "  color: var(--xr-disabled-color);\n",
       "}\n",
       "\n",
       ".xr-section-summary-in:checked + label:before {\n",
       "  content: \"▼\";\n",
       "}\n",
       "\n",
       ".xr-section-summary-in:checked + label > span {\n",
       "  display: none;\n",
       "}\n",
       "\n",
       ".xr-section-summary,\n",
       ".xr-section-inline-details {\n",
       "  padding-top: 4px;\n",
       "  padding-bottom: 4px;\n",
       "}\n",
       "\n",
       ".xr-section-inline-details {\n",
       "  grid-column: 2 / -1;\n",
       "}\n",
       "\n",
       ".xr-section-details {\n",
       "  display: none;\n",
       "  grid-column: 1 / -1;\n",
       "  margin-bottom: 5px;\n",
       "}\n",
       "\n",
       ".xr-section-summary-in:checked ~ .xr-section-details {\n",
       "  display: contents;\n",
       "}\n",
       "\n",
       ".xr-array-wrap {\n",
       "  grid-column: 1 / -1;\n",
       "  display: grid;\n",
       "  grid-template-columns: 20px auto;\n",
       "}\n",
       "\n",
       ".xr-array-wrap > label {\n",
       "  grid-column: 1;\n",
       "  vertical-align: top;\n",
       "}\n",
       "\n",
       ".xr-preview {\n",
       "  color: var(--xr-font-color3);\n",
       "}\n",
       "\n",
       ".xr-array-preview,\n",
       ".xr-array-data {\n",
       "  padding: 0 5px !important;\n",
       "  grid-column: 2;\n",
       "}\n",
       "\n",
       ".xr-array-data,\n",
       ".xr-array-in:checked ~ .xr-array-preview {\n",
       "  display: none;\n",
       "}\n",
       "\n",
       ".xr-array-in:checked ~ .xr-array-data,\n",
       ".xr-array-preview {\n",
       "  display: inline-block;\n",
       "}\n",
       "\n",
       ".xr-dim-list {\n",
       "  display: inline-block !important;\n",
       "  list-style: none;\n",
       "  padding: 0 !important;\n",
       "  margin: 0;\n",
       "}\n",
       "\n",
       ".xr-dim-list li {\n",
       "  display: inline-block;\n",
       "  padding: 0;\n",
       "  margin: 0;\n",
       "}\n",
       "\n",
       ".xr-dim-list:before {\n",
       "  content: \"(\";\n",
       "}\n",
       "\n",
       ".xr-dim-list:after {\n",
       "  content: \")\";\n",
       "}\n",
       "\n",
       ".xr-dim-list li:not(:last-child):after {\n",
       "  content: \",\";\n",
       "  padding-right: 5px;\n",
       "}\n",
       "\n",
       ".xr-has-index {\n",
       "  font-weight: bold;\n",
       "}\n",
       "\n",
       ".xr-var-list,\n",
       ".xr-var-item {\n",
       "  display: contents;\n",
       "}\n",
       "\n",
       ".xr-var-item > div,\n",
       ".xr-var-item label,\n",
       ".xr-var-item > .xr-var-name span {\n",
       "  background-color: var(--xr-background-color-row-even);\n",
       "  border-color: var(--xr-background-color-row-odd);\n",
       "  margin-bottom: 0;\n",
       "  padding-top: 2px;\n",
       "}\n",
       "\n",
       ".xr-var-item > .xr-var-name:hover span {\n",
       "  padding-right: 5px;\n",
       "}\n",
       "\n",
       ".xr-var-list > li:nth-child(odd) > div,\n",
       ".xr-var-list > li:nth-child(odd) > label,\n",
       ".xr-var-list > li:nth-child(odd) > .xr-var-name span {\n",
       "  background-color: var(--xr-background-color-row-odd);\n",
       "  border-color: var(--xr-background-color-row-even);\n",
       "}\n",
       "\n",
       ".xr-var-name {\n",
       "  grid-column: 1;\n",
       "}\n",
       "\n",
       ".xr-var-dims {\n",
       "  grid-column: 2;\n",
       "}\n",
       "\n",
       ".xr-var-dtype {\n",
       "  grid-column: 3;\n",
       "  text-align: right;\n",
       "  color: var(--xr-font-color2);\n",
       "}\n",
       "\n",
       ".xr-var-preview {\n",
       "  grid-column: 4;\n",
       "}\n",
       "\n",
       ".xr-index-preview {\n",
       "  grid-column: 2 / 5;\n",
       "  color: var(--xr-font-color2);\n",
       "}\n",
       "\n",
       ".xr-var-name,\n",
       ".xr-var-dims,\n",
       ".xr-var-dtype,\n",
       ".xr-preview,\n",
       ".xr-attrs dt {\n",
       "  white-space: nowrap;\n",
       "  overflow: hidden;\n",
       "  text-overflow: ellipsis;\n",
       "  padding-right: 10px;\n",
       "}\n",
       "\n",
       ".xr-var-name:hover,\n",
       ".xr-var-dims:hover,\n",
       ".xr-var-dtype:hover,\n",
       ".xr-attrs dt:hover {\n",
       "  overflow: visible;\n",
       "  width: auto;\n",
       "  z-index: 1;\n",
       "}\n",
       "\n",
       ".xr-var-attrs,\n",
       ".xr-var-data,\n",
       ".xr-index-data {\n",
       "  display: none;\n",
       "  border-top: 2px dotted var(--xr-background-color);\n",
       "  padding-bottom: 20px !important;\n",
       "  padding-top: 10px !important;\n",
       "}\n",
       "\n",
       ".xr-var-attrs-in + label,\n",
       ".xr-var-data-in + label,\n",
       ".xr-index-data-in + label {\n",
       "  padding: 0 1px;\n",
       "}\n",
       "\n",
       ".xr-var-attrs-in:checked ~ .xr-var-attrs,\n",
       ".xr-var-data-in:checked ~ .xr-var-data,\n",
       ".xr-index-data-in:checked ~ .xr-index-data {\n",
       "  display: block;\n",
       "}\n",
       "\n",
       ".xr-var-data > table {\n",
       "  float: right;\n",
       "}\n",
       "\n",
       ".xr-var-data > pre,\n",
       ".xr-index-data > pre,\n",
       ".xr-var-data > table > tbody > tr {\n",
       "  background-color: transparent !important;\n",
       "}\n",
       "\n",
       ".xr-var-name span,\n",
       ".xr-var-data,\n",
       ".xr-index-name div,\n",
       ".xr-index-data,\n",
       ".xr-attrs {\n",
       "  padding-left: 25px !important;\n",
       "}\n",
       "\n",
       ".xr-attrs,\n",
       ".xr-var-attrs,\n",
       ".xr-var-data,\n",
       ".xr-index-data {\n",
       "  grid-column: 1 / -1;\n",
       "}\n",
       "\n",
       "dl.xr-attrs {\n",
       "  padding: 0;\n",
       "  margin: 0;\n",
       "  display: grid;\n",
       "  grid-template-columns: 125px auto;\n",
       "}\n",
       "\n",
       ".xr-attrs dt,\n",
       ".xr-attrs dd {\n",
       "  padding: 0;\n",
       "  margin: 0;\n",
       "  float: left;\n",
       "  padding-right: 10px;\n",
       "  width: auto;\n",
       "}\n",
       "\n",
       ".xr-attrs dt {\n",
       "  font-weight: normal;\n",
       "  grid-column: 1;\n",
       "}\n",
       "\n",
       ".xr-attrs dt:hover span {\n",
       "  display: inline-block;\n",
       "  background: var(--xr-background-color);\n",
       "  padding-right: 10px;\n",
       "}\n",
       "\n",
       ".xr-attrs dd {\n",
       "  grid-column: 2;\n",
       "  white-space: pre-wrap;\n",
       "  word-break: break-all;\n",
       "}\n",
       "\n",
       ".xr-icon-database,\n",
       ".xr-icon-file-text2,\n",
       ".xr-no-icon {\n",
       "  display: inline-block;\n",
       "  vertical-align: middle;\n",
       "  width: 1em;\n",
       "  height: 1.5em !important;\n",
       "  stroke-width: 0;\n",
       "  stroke: currentColor;\n",
       "  fill: currentColor;\n",
       "}\n",
       "\n",
       ".xr-var-attrs-in:checked + label > .xr-icon-file-text2,\n",
       ".xr-var-data-in:checked + label > .xr-icon-database,\n",
       ".xr-index-data-in:checked + label > .xr-icon-database {\n",
       "  color: var(--xr-font-color0);\n",
       "  filter: drop-shadow(1px 1px 5px var(--xr-font-color2));\n",
       "  stroke-width: 0.8px;\n",
       "}\n",
       "</style><pre class='xr-text-repr-fallback'>&lt;xarray.Dataset&gt; Size: 2kB\n",
       "Dimensions:  (time: 61)\n",
       "Coordinates:\n",
       "    lat      float64 8B 30.25\n",
       "    lon      float64 8B 97.75\n",
       "  * time     (time) datetime64[ns] 488B 1979-01-03 ... 1979-01-18\n",
       "Data variables:\n",
       "    u10m     (time) float32 244B ...\n",
       "    v10m     (time) float32 244B ...\n",
       "    t2m      (time) float32 244B ...\n",
       "    msl      (time) float32 244B ...\n",
       "    tp06     (time) float32 244B ...\n",
       "Attributes: (12/19)\n",
       "    institution:           The University of Texas at Austin, Austin, Texas, USA\n",
       "    institute_id:          UT-Austin\n",
       "    experiment_id:         ERA5-Based Graphcast Hindcast\n",
       "    source:                Google Deepmind Graphcast-operational output using...\n",
       "    model_id:              Graphcast-ERA5\n",
       "    forcing:               ERA5 Reanalysis Data\n",
       "    ...                    ...\n",
       "    history:               2025-05-21T15:10:54Z Data processed for NetCDF format\n",
       "    project_id:            UT Austin Graphcast Hindcast\n",
       "    title:                 Graphcast-operational Forecast Data for 1979-01-03\n",
       "    modeling_realm:        atmosphere\n",
       "    realization:           1\n",
       "    Conventions:           CF-1.8</pre><div class='xr-wrap' style='display:none'><div class='xr-header'><div class='xr-obj-type'>xarray.Dataset</div></div><ul class='xr-sections'><li class='xr-section-item'><input id='section-2ff43bc4-a4a1-4c2e-b717-58cdc0691d8a' class='xr-section-summary-in' type='checkbox' disabled ><label for='section-2ff43bc4-a4a1-4c2e-b717-58cdc0691d8a' class='xr-section-summary'  title='Expand/collapse section'>Dimensions:</label><div class='xr-section-inline-details'><ul class='xr-dim-list'><li><span class='xr-has-index'>time</span>: 61</li></ul></div><div class='xr-section-details'></div></li><li class='xr-section-item'><input id='section-8b1f1aae-61f3-49f2-8f1f-e4c2b3bb4b22' class='xr-section-summary-in' type='checkbox'  checked><label for='section-8b1f1aae-61f3-49f2-8f1f-e4c2b3bb4b22' class='xr-section-summary' >Coordinates: <span>(3)</span></label><div class='xr-section-inline-details'></div><div class='xr-section-details'><ul class='xr-var-list'><li class='xr-var-item'><div class='xr-var-name'><span>lat</span></div><div class='xr-var-dims'>()</div><div class='xr-var-dtype'>float64</div><div class='xr-var-preview xr-preview'>30.25</div><input id='attrs-4e7716d4-a4d8-4781-891a-9103c5d2f498' class='xr-var-attrs-in' type='checkbox' ><label for='attrs-4e7716d4-a4d8-4781-891a-9103c5d2f498' title='Show/Hide attributes'><svg class='icon xr-icon-file-text2'><use xlink:href='#icon-file-text2'></use></svg></label><input id='data-d96c3f16-364b-4f51-8a69-ca229e944b24' class='xr-var-data-in' type='checkbox'><label for='data-d96c3f16-364b-4f51-8a69-ca229e944b24' title='Show/Hide data repr'><svg class='icon xr-icon-database'><use xlink:href='#icon-database'></use></svg></label><div class='xr-var-attrs'><dl class='xr-attrs'><dt><span>long_name :</span></dt><dd>Latitude</dd><dt><span>standard_name :</span></dt><dd>latitude</dd><dt><span>units :</span></dt><dd>degrees_north</dd><dt><span>axis :</span></dt><dd>Y</dd></dl></div><div class='xr-var-data'><pre>array(30.25)</pre></div></li><li class='xr-var-item'><div class='xr-var-name'><span>lon</span></div><div class='xr-var-dims'>()</div><div class='xr-var-dtype'>float64</div><div class='xr-var-preview xr-preview'>97.75</div><input id='attrs-34f22dd2-99f5-478c-a938-606eafa35a8b' class='xr-var-attrs-in' type='checkbox' ><label for='attrs-34f22dd2-99f5-478c-a938-606eafa35a8b' title='Show/Hide attributes'><svg class='icon xr-icon-file-text2'><use xlink:href='#icon-file-text2'></use></svg></label><input id='data-c46100ce-d495-4b42-b00b-fecdbd17c732' class='xr-var-data-in' type='checkbox'><label for='data-c46100ce-d495-4b42-b00b-fecdbd17c732' title='Show/Hide data repr'><svg class='icon xr-icon-database'><use xlink:href='#icon-database'></use></svg></label><div class='xr-var-attrs'><dl class='xr-attrs'><dt><span>long_name :</span></dt><dd>Longitude</dd><dt><span>standard_name :</span></dt><dd>longitude</dd><dt><span>units :</span></dt><dd>degrees_east</dd><dt><span>axis :</span></dt><dd>X</dd></dl></div><div class='xr-var-data'><pre>array(97.75)</pre></div></li><li class='xr-var-item'><div class='xr-var-name'><span class='xr-has-index'>time</span></div><div class='xr-var-dims'>(time)</div><div class='xr-var-dtype'>datetime64[ns]</div><div class='xr-var-preview xr-preview'>1979-01-03 ... 1979-01-18</div><input id='attrs-686e79d6-f3f6-4fa2-804a-65ba914fd1a6' class='xr-var-attrs-in' type='checkbox' ><label for='attrs-686e79d6-f3f6-4fa2-804a-65ba914fd1a6' title='Show/Hide attributes'><svg class='icon xr-icon-file-text2'><use xlink:href='#icon-file-text2'></use></svg></label><input id='data-df3ffac5-3f30-4b26-b968-db9c4b4051d1' class='xr-var-data-in' type='checkbox'><label for='data-df3ffac5-3f30-4b26-b968-db9c4b4051d1' title='Show/Hide data repr'><svg class='icon xr-icon-database'><use xlink:href='#icon-database'></use></svg></label><div class='xr-var-attrs'><dl class='xr-attrs'><dt><span>long_name :</span></dt><dd>Time</dd><dt><span>standard_name :</span></dt><dd>time</dd><dt><span>axis :</span></dt><dd>T</dd></dl></div><div class='xr-var-data'><pre>array([&#x27;1979-01-03T00:00:00.000000000&#x27;, &#x27;1979-01-03T06:00:00.000000000&#x27;,\n",
       "       &#x27;1979-01-03T12:00:00.000000000&#x27;, &#x27;1979-01-03T18:00:00.000000000&#x27;,\n",
       "       &#x27;1979-01-04T00:00:00.000000000&#x27;, &#x27;1979-01-04T06:00:00.000000000&#x27;,\n",
       "       &#x27;1979-01-04T12:00:00.000000000&#x27;, &#x27;1979-01-04T18:00:00.000000000&#x27;,\n",
       "       &#x27;1979-01-05T00:00:00.000000000&#x27;, &#x27;1979-01-05T06:00:00.000000000&#x27;,\n",
       "       &#x27;1979-01-05T12:00:00.000000000&#x27;, &#x27;1979-01-05T18:00:00.000000000&#x27;,\n",
       "       &#x27;1979-01-06T00:00:00.000000000&#x27;, &#x27;1979-01-06T06:00:00.000000000&#x27;,\n",
       "       &#x27;1979-01-06T12:00:00.000000000&#x27;, &#x27;1979-01-06T18:00:00.000000000&#x27;,\n",
       "       &#x27;1979-01-07T00:00:00.000000000&#x27;, &#x27;1979-01-07T06:00:00.000000000&#x27;,\n",
       "       &#x27;1979-01-07T12:00:00.000000000&#x27;, &#x27;1979-01-07T18:00:00.000000000&#x27;,\n",
       "       &#x27;1979-01-08T00:00:00.000000000&#x27;, &#x27;1979-01-08T06:00:00.000000000&#x27;,\n",
       "       &#x27;1979-01-08T12:00:00.000000000&#x27;, &#x27;1979-01-08T18:00:00.000000000&#x27;,\n",
       "       &#x27;1979-01-09T00:00:00.000000000&#x27;, &#x27;1979-01-09T06:00:00.000000000&#x27;,\n",
       "       &#x27;1979-01-09T12:00:00.000000000&#x27;, &#x27;1979-01-09T18:00:00.000000000&#x27;,\n",
       "       &#x27;1979-01-10T00:00:00.000000000&#x27;, &#x27;1979-01-10T06:00:00.000000000&#x27;,\n",
       "       &#x27;1979-01-10T12:00:00.000000000&#x27;, &#x27;1979-01-10T18:00:00.000000000&#x27;,\n",
       "       &#x27;1979-01-11T00:00:00.000000000&#x27;, &#x27;1979-01-11T06:00:00.000000000&#x27;,\n",
       "       &#x27;1979-01-11T12:00:00.000000000&#x27;, &#x27;1979-01-11T18:00:00.000000000&#x27;,\n",
       "       &#x27;1979-01-12T00:00:00.000000000&#x27;, &#x27;1979-01-12T06:00:00.000000000&#x27;,\n",
       "       &#x27;1979-01-12T12:00:00.000000000&#x27;, &#x27;1979-01-12T18:00:00.000000000&#x27;,\n",
       "       &#x27;1979-01-13T00:00:00.000000000&#x27;, &#x27;1979-01-13T06:00:00.000000000&#x27;,\n",
       "       &#x27;1979-01-13T12:00:00.000000000&#x27;, &#x27;1979-01-13T18:00:00.000000000&#x27;,\n",
       "       &#x27;1979-01-14T00:00:00.000000000&#x27;, &#x27;1979-01-14T06:00:00.000000000&#x27;,\n",
       "       &#x27;1979-01-14T12:00:00.000000000&#x27;, &#x27;1979-01-14T18:00:00.000000000&#x27;,\n",
       "       &#x27;1979-01-15T00:00:00.000000000&#x27;, &#x27;1979-01-15T06:00:00.000000000&#x27;,\n",
       "       &#x27;1979-01-15T12:00:00.000000000&#x27;, &#x27;1979-01-15T18:00:00.000000000&#x27;,\n",
       "       &#x27;1979-01-16T00:00:00.000000000&#x27;, &#x27;1979-01-16T06:00:00.000000000&#x27;,\n",
       "       &#x27;1979-01-16T12:00:00.000000000&#x27;, &#x27;1979-01-16T18:00:00.000000000&#x27;,\n",
       "       &#x27;1979-01-17T00:00:00.000000000&#x27;, &#x27;1979-01-17T06:00:00.000000000&#x27;,\n",
       "       &#x27;1979-01-17T12:00:00.000000000&#x27;, &#x27;1979-01-17T18:00:00.000000000&#x27;,\n",
       "       &#x27;1979-01-18T00:00:00.000000000&#x27;], dtype=&#x27;datetime64[ns]&#x27;)</pre></div></li></ul></div></li><li class='xr-section-item'><input id='section-3147e338-185b-4e6e-b57b-aefb249c97fe' class='xr-section-summary-in' type='checkbox'  checked><label for='section-3147e338-185b-4e6e-b57b-aefb249c97fe' class='xr-section-summary' >Data variables: <span>(5)</span></label><div class='xr-section-inline-details'></div><div class='xr-section-details'><ul class='xr-var-list'><li class='xr-var-item'><div class='xr-var-name'><span>u10m</span></div><div class='xr-var-dims'>(time)</div><div class='xr-var-dtype'>float32</div><div class='xr-var-preview xr-preview'>...</div><input id='attrs-6c7152a9-d7b7-4d18-bb64-5c1d04f7b09c' class='xr-var-attrs-in' type='checkbox' ><label for='attrs-6c7152a9-d7b7-4d18-bb64-5c1d04f7b09c' title='Show/Hide attributes'><svg class='icon xr-icon-file-text2'><use xlink:href='#icon-file-text2'></use></svg></label><input id='data-cf92d0c8-c59b-457b-b998-43a0f826979a' class='xr-var-data-in' type='checkbox'><label for='data-cf92d0c8-c59b-457b-b998-43a0f826979a' title='Show/Hide data repr'><svg class='icon xr-icon-database'><use xlink:href='#icon-database'></use></svg></label><div class='xr-var-attrs'><dl class='xr-attrs'><dt><span>long_name :</span></dt><dd>10m Zonal Wind</dd><dt><span>standard_name :</span></dt><dd>eastward_wind</dd><dt><span>units :</span></dt><dd>m s-1</dd></dl></div><div class='xr-var-data'><pre>[61 values with dtype=float32]</pre></div></li><li class='xr-var-item'><div class='xr-var-name'><span>v10m</span></div><div class='xr-var-dims'>(time)</div><div class='xr-var-dtype'>float32</div><div class='xr-var-preview xr-preview'>...</div><input id='attrs-d55300cc-5f55-4f5a-b3b3-8de93a19e638' class='xr-var-attrs-in' type='checkbox' ><label for='attrs-d55300cc-5f55-4f5a-b3b3-8de93a19e638' title='Show/Hide attributes'><svg class='icon xr-icon-file-text2'><use xlink:href='#icon-file-text2'></use></svg></label><input id='data-1e99cca9-c319-4438-a7f8-e453b09c18b5' class='xr-var-data-in' type='checkbox'><label for='data-1e99cca9-c319-4438-a7f8-e453b09c18b5' title='Show/Hide data repr'><svg class='icon xr-icon-database'><use xlink:href='#icon-database'></use></svg></label><div class='xr-var-attrs'><dl class='xr-attrs'><dt><span>long_name :</span></dt><dd>10m Meridional Wind</dd><dt><span>standard_name :</span></dt><dd>northward_wind</dd><dt><span>units :</span></dt><dd>m s-1</dd></dl></div><div class='xr-var-data'><pre>[61 values with dtype=float32]</pre></div></li><li class='xr-var-item'><div class='xr-var-name'><span>t2m</span></div><div class='xr-var-dims'>(time)</div><div class='xr-var-dtype'>float32</div><div class='xr-var-preview xr-preview'>...</div><input id='attrs-6090b866-0c59-4e67-90d9-7bd0634b35be' class='xr-var-attrs-in' type='checkbox' ><label for='attrs-6090b866-0c59-4e67-90d9-7bd0634b35be' title='Show/Hide attributes'><svg class='icon xr-icon-file-text2'><use xlink:href='#icon-file-text2'></use></svg></label><input id='data-b44f0f0a-05e4-48c2-9c7f-52a78b050812' class='xr-var-data-in' type='checkbox'><label for='data-b44f0f0a-05e4-48c2-9c7f-52a78b050812' title='Show/Hide data repr'><svg class='icon xr-icon-database'><use xlink:href='#icon-database'></use></svg></label><div class='xr-var-attrs'><dl class='xr-attrs'><dt><span>long_name :</span></dt><dd>2m Temperature</dd><dt><span>standard_name :</span></dt><dd>air_temperature</dd><dt><span>units :</span></dt><dd>K</dd></dl></div><div class='xr-var-data'><pre>[61 values with dtype=float32]</pre></div></li><li class='xr-var-item'><div class='xr-var-name'><span>msl</span></div><div class='xr-var-dims'>(time)</div><div class='xr-var-dtype'>float32</div><div class='xr-var-preview xr-preview'>...</div><input id='attrs-5963d1e3-301d-4bd7-a13b-0940074bdbe8' class='xr-var-attrs-in' type='checkbox' ><label for='attrs-5963d1e3-301d-4bd7-a13b-0940074bdbe8' title='Show/Hide attributes'><svg class='icon xr-icon-file-text2'><use xlink:href='#icon-file-text2'></use></svg></label><input id='data-460cbfec-66d2-44ea-9544-738ebfe196e8' class='xr-var-data-in' type='checkbox'><label for='data-460cbfec-66d2-44ea-9544-738ebfe196e8' title='Show/Hide data repr'><svg class='icon xr-icon-database'><use xlink:href='#icon-database'></use></svg></label><div class='xr-var-attrs'><dl class='xr-attrs'><dt><span>long_name :</span></dt><dd>Mean Sea Level Pressure</dd><dt><span>standard_name :</span></dt><dd>air_pressure_at_mean_sea_level</dd><dt><span>units :</span></dt><dd>Pa</dd></dl></div><div class='xr-var-data'><pre>[61 values with dtype=float32]</pre></div></li><li class='xr-var-item'><div class='xr-var-name'><span>tp06</span></div><div class='xr-var-dims'>(time)</div><div class='xr-var-dtype'>float32</div><div class='xr-var-preview xr-preview'>...</div><input id='attrs-d52b775c-0320-4a89-83ff-8fd4675ba95e' class='xr-var-attrs-in' type='checkbox' ><label for='attrs-d52b775c-0320-4a89-83ff-8fd4675ba95e' title='Show/Hide attributes'><svg class='icon xr-icon-file-text2'><use xlink:href='#icon-file-text2'></use></svg></label><input id='data-6e6c7162-8ba4-4a63-8a59-279c6d2aff8e' class='xr-var-data-in' type='checkbox'><label for='data-6e6c7162-8ba4-4a63-8a59-279c6d2aff8e' title='Show/Hide data repr'><svg class='icon xr-icon-database'><use xlink:href='#icon-database'></use></svg></label><div class='xr-var-attrs'><dl class='xr-attrs'><dt><span>long_name :</span></dt><dd>6-Hour Total Precipitation</dd><dt><span>standard_name :</span></dt><dd>precipitation_amount</dd><dt><span>units :</span></dt><dd>m</dd></dl></div><div class='xr-var-data'><pre>[61 values with dtype=float32]</pre></div></li></ul></div></li><li class='xr-section-item'><input id='section-77591503-0a6e-455a-87dc-6f35fd11ad4f' class='xr-section-summary-in' type='checkbox'  ><label for='section-77591503-0a6e-455a-87dc-6f35fd11ad4f' class='xr-section-summary' >Indexes: <span>(1)</span></label><div class='xr-section-inline-details'></div><div class='xr-section-details'><ul class='xr-var-list'><li class='xr-var-item'><div class='xr-index-name'><div>time</div></div><div class='xr-index-preview'>PandasIndex</div><input type='checkbox' disabled/><label></label><input id='index-5030bf9f-675a-4284-9fec-1cdf3e80d30e' class='xr-index-data-in' type='checkbox'/><label for='index-5030bf9f-675a-4284-9fec-1cdf3e80d30e' title='Show/Hide index repr'><svg class='icon xr-icon-database'><use xlink:href='#icon-database'></use></svg></label><div class='xr-index-data'><pre>PandasIndex(DatetimeIndex([&#x27;1979-01-03 00:00:00&#x27;, &#x27;1979-01-03 06:00:00&#x27;,\n",
       "               &#x27;1979-01-03 12:00:00&#x27;, &#x27;1979-01-03 18:00:00&#x27;,\n",
       "               &#x27;1979-01-04 00:00:00&#x27;, &#x27;1979-01-04 06:00:00&#x27;,\n",
       "               &#x27;1979-01-04 12:00:00&#x27;, &#x27;1979-01-04 18:00:00&#x27;,\n",
       "               &#x27;1979-01-05 00:00:00&#x27;, &#x27;1979-01-05 06:00:00&#x27;,\n",
       "               &#x27;1979-01-05 12:00:00&#x27;, &#x27;1979-01-05 18:00:00&#x27;,\n",
       "               &#x27;1979-01-06 00:00:00&#x27;, &#x27;1979-01-06 06:00:00&#x27;,\n",
       "               &#x27;1979-01-06 12:00:00&#x27;, &#x27;1979-01-06 18:00:00&#x27;,\n",
       "               &#x27;1979-01-07 00:00:00&#x27;, &#x27;1979-01-07 06:00:00&#x27;,\n",
       "               &#x27;1979-01-07 12:00:00&#x27;, &#x27;1979-01-07 18:00:00&#x27;,\n",
       "               &#x27;1979-01-08 00:00:00&#x27;, &#x27;1979-01-08 06:00:00&#x27;,\n",
       "               &#x27;1979-01-08 12:00:00&#x27;, &#x27;1979-01-08 18:00:00&#x27;,\n",
       "               &#x27;1979-01-09 00:00:00&#x27;, &#x27;1979-01-09 06:00:00&#x27;,\n",
       "               &#x27;1979-01-09 12:00:00&#x27;, &#x27;1979-01-09 18:00:00&#x27;,\n",
       "               &#x27;1979-01-10 00:00:00&#x27;, &#x27;1979-01-10 06:00:00&#x27;,\n",
       "               &#x27;1979-01-10 12:00:00&#x27;, &#x27;1979-01-10 18:00:00&#x27;,\n",
       "               &#x27;1979-01-11 00:00:00&#x27;, &#x27;1979-01-11 06:00:00&#x27;,\n",
       "               &#x27;1979-01-11 12:00:00&#x27;, &#x27;1979-01-11 18:00:00&#x27;,\n",
       "               &#x27;1979-01-12 00:00:00&#x27;, &#x27;1979-01-12 06:00:00&#x27;,\n",
       "               &#x27;1979-01-12 12:00:00&#x27;, &#x27;1979-01-12 18:00:00&#x27;,\n",
       "               &#x27;1979-01-13 00:00:00&#x27;, &#x27;1979-01-13 06:00:00&#x27;,\n",
       "               &#x27;1979-01-13 12:00:00&#x27;, &#x27;1979-01-13 18:00:00&#x27;,\n",
       "               &#x27;1979-01-14 00:00:00&#x27;, &#x27;1979-01-14 06:00:00&#x27;,\n",
       "               &#x27;1979-01-14 12:00:00&#x27;, &#x27;1979-01-14 18:00:00&#x27;,\n",
       "               &#x27;1979-01-15 00:00:00&#x27;, &#x27;1979-01-15 06:00:00&#x27;,\n",
       "               &#x27;1979-01-15 12:00:00&#x27;, &#x27;1979-01-15 18:00:00&#x27;,\n",
       "               &#x27;1979-01-16 00:00:00&#x27;, &#x27;1979-01-16 06:00:00&#x27;,\n",
       "               &#x27;1979-01-16 12:00:00&#x27;, &#x27;1979-01-16 18:00:00&#x27;,\n",
       "               &#x27;1979-01-17 00:00:00&#x27;, &#x27;1979-01-17 06:00:00&#x27;,\n",
       "               &#x27;1979-01-17 12:00:00&#x27;, &#x27;1979-01-17 18:00:00&#x27;,\n",
       "               &#x27;1979-01-18 00:00:00&#x27;],\n",
       "              dtype=&#x27;datetime64[ns]&#x27;, name=&#x27;time&#x27;, freq=None))</pre></div></li></ul></div></li><li class='xr-section-item'><input id='section-c1b88768-bc54-4d26-b304-bc444fbeea0b' class='xr-section-summary-in' type='checkbox'  ><label for='section-c1b88768-bc54-4d26-b304-bc444fbeea0b' class='xr-section-summary' >Attributes: <span>(19)</span></label><div class='xr-section-inline-details'></div><div class='xr-section-details'><dl class='xr-attrs'><dt><span>institution :</span></dt><dd>The University of Texas at Austin, Austin, Texas, USA</dd><dt><span>institute_id :</span></dt><dd>UT-Austin</dd><dt><span>experiment_id :</span></dt><dd>ERA5-Based Graphcast Hindcast</dd><dt><span>source :</span></dt><dd>Google Deepmind Graphcast-operational output using ERA5 as initial condition</dd><dt><span>model_id :</span></dt><dd>Graphcast-ERA5</dd><dt><span>forcing :</span></dt><dd>ERA5 Reanalysis Data</dd><dt><span>parent_experiment_id :</span></dt><dd>GraphCast Hindcast</dd><dt><span>contact :</span></dt><dd>Naveen Sudharsan (naveens@utexas.edu); Manmeet Singh (manmeet.singh@utexas.edu); Zong-Liang Yang (liang@jsg.utexas.edu); Dev Niyogi (dev.niyogi@jsg.utexas.edu)</dd><dt><span>references :</span></dt><dd>DeepMind GraphCast Model Documentation, ERA5 Reanalysis Data</dd><dt><span>product :</span></dt><dd>AI model 15-day forecast</dd><dt><span>experiment :</span></dt><dd>ERA5-based Graphcast Forecasts</dd><dt><span>frequency :</span></dt><dd>6-hourly</dd><dt><span>creation_date :</span></dt><dd>2025-05-21T15:10:54Z</dd><dt><span>history :</span></dt><dd>2025-05-21T15:10:54Z Data processed for NetCDF format</dd><dt><span>project_id :</span></dt><dd>UT Austin Graphcast Hindcast</dd><dt><span>title :</span></dt><dd>Graphcast-operational Forecast Data for 1979-01-03</dd><dt><span>modeling_realm :</span></dt><dd>atmosphere</dd><dt><span>realization :</span></dt><dd>1</dd><dt><span>Conventions :</span></dt><dd>CF-1.8</dd></dl></div></li></ul></div></div>"
      ],
      "text/plain": [
       "<xarray.Dataset> Size: 2kB\n",
       "Dimensions:  (time: 61)\n",
       "Coordinates:\n",
       "    lat      float64 8B 30.25\n",
       "    lon      float64 8B 97.75\n",
       "  * time     (time) datetime64[ns] 488B 1979-01-03 ... 1979-01-18\n",
       "Data variables:\n",
       "    u10m     (time) float32 244B ...\n",
       "    v10m     (time) float32 244B ...\n",
       "    t2m      (time) float32 244B ...\n",
       "    msl      (time) float32 244B ...\n",
       "    tp06     (time) float32 244B ...\n",
       "Attributes: (12/19)\n",
       "    institution:           The University of Texas at Austin, Austin, Texas, USA\n",
       "    institute_id:          UT-Austin\n",
       "    experiment_id:         ERA5-Based Graphcast Hindcast\n",
       "    source:                Google Deepmind Graphcast-operational output using...\n",
       "    model_id:              Graphcast-ERA5\n",
       "    forcing:               ERA5 Reanalysis Data\n",
       "    ...                    ...\n",
       "    history:               2025-05-21T15:10:54Z Data processed for NetCDF format\n",
       "    project_id:            UT Austin Graphcast Hindcast\n",
       "    title:                 Graphcast-operational Forecast Data for 1979-01-03\n",
       "    modeling_realm:        atmosphere\n",
       "    realization:           1\n",
       "    Conventions:           CF-1.8"
      ]
     },
     "execution_count": 7,
     "metadata": {},
     "output_type": "execute_result"
    }
   ],
   "source": [
    "lat = 30.25\n",
    "lon = 97.75\n",
    "subset = reader.select(lat=lat,lon = lon,prefix='surface_variables')\n",
    "subset"
   ]
  },
  {
   "cell_type": "code",
   "execution_count": 8,
   "id": "10f854f9",
   "metadata": {},
   "outputs": [],
   "source": [
    "attributes = {short_name:subset.data_vars[short_name].attrs for short_name in subset.data_vars}\n",
    "name_map = {short_name:f'{attributes['long_name']} [{attributes['units']}]' for short_name,attributes in attributes.items()}"
   ]
  },
  {
   "cell_type": "code",
   "execution_count": 9,
   "id": "9b669a34",
   "metadata": {},
   "outputs": [
    {
     "data": {
      "application/vnd.plotly.v1+json": {
       "config": {
        "plotlyServerURL": "https://plot.ly"
       },
       "data": [
        {
         "hovertemplate": "variable=10m Zonal Wind [m s-1]<br>time=%{x}<br>value=%{y}<extra></extra>",
         "legendgroup": "10m Zonal Wind [m s-1]",
         "line": {
          "color": "#1F77B4",
          "dash": "solid",
          "width": 3
         },
         "marker": {
          "symbol": "circle"
         },
         "mode": "lines",
         "name": "10m Zonal Wind [m s-1]",
         "orientation": "v",
         "showlegend": true,
         "type": "scatter",
         "x": [
          "1979-01-03T00:00:00.000000000",
          "1979-01-03T06:00:00.000000000",
          "1979-01-03T12:00:00.000000000",
          "1979-01-03T18:00:00.000000000",
          "1979-01-04T00:00:00.000000000",
          "1979-01-04T06:00:00.000000000",
          "1979-01-04T12:00:00.000000000",
          "1979-01-04T18:00:00.000000000",
          "1979-01-05T00:00:00.000000000",
          "1979-01-05T06:00:00.000000000",
          "1979-01-05T12:00:00.000000000",
          "1979-01-05T18:00:00.000000000",
          "1979-01-06T00:00:00.000000000",
          "1979-01-06T06:00:00.000000000",
          "1979-01-06T12:00:00.000000000",
          "1979-01-06T18:00:00.000000000",
          "1979-01-07T00:00:00.000000000",
          "1979-01-07T06:00:00.000000000",
          "1979-01-07T12:00:00.000000000",
          "1979-01-07T18:00:00.000000000",
          "1979-01-08T00:00:00.000000000",
          "1979-01-08T06:00:00.000000000",
          "1979-01-08T12:00:00.000000000",
          "1979-01-08T18:00:00.000000000",
          "1979-01-09T00:00:00.000000000",
          "1979-01-09T06:00:00.000000000",
          "1979-01-09T12:00:00.000000000",
          "1979-01-09T18:00:00.000000000",
          "1979-01-10T00:00:00.000000000",
          "1979-01-10T06:00:00.000000000",
          "1979-01-10T12:00:00.000000000",
          "1979-01-10T18:00:00.000000000",
          "1979-01-11T00:00:00.000000000",
          "1979-01-11T06:00:00.000000000",
          "1979-01-11T12:00:00.000000000",
          "1979-01-11T18:00:00.000000000",
          "1979-01-12T00:00:00.000000000",
          "1979-01-12T06:00:00.000000000",
          "1979-01-12T12:00:00.000000000",
          "1979-01-12T18:00:00.000000000",
          "1979-01-13T00:00:00.000000000",
          "1979-01-13T06:00:00.000000000",
          "1979-01-13T12:00:00.000000000",
          "1979-01-13T18:00:00.000000000",
          "1979-01-14T00:00:00.000000000",
          "1979-01-14T06:00:00.000000000",
          "1979-01-14T12:00:00.000000000",
          "1979-01-14T18:00:00.000000000",
          "1979-01-15T00:00:00.000000000",
          "1979-01-15T06:00:00.000000000",
          "1979-01-15T12:00:00.000000000",
          "1979-01-15T18:00:00.000000000",
          "1979-01-16T00:00:00.000000000",
          "1979-01-16T06:00:00.000000000",
          "1979-01-16T12:00:00.000000000",
          "1979-01-16T18:00:00.000000000",
          "1979-01-17T00:00:00.000000000",
          "1979-01-17T06:00:00.000000000",
          "1979-01-17T12:00:00.000000000",
          "1979-01-17T18:00:00.000000000",
          "1979-01-18T00:00:00.000000000"
         ],
         "xaxis": "x",
         "y": {
          "bdata": "gL3iP4Kk+T+kdqY/n6FvP7AKRj96QTk/UDZJvX5ymD7e3+0+a6YAQPCWaT9wQzA/ZF4QP1qxhz+gHYo+gwqGPt9uuz4N1ZY/36FAP+gpZT9i/GI/xgivP5zTQT9+9EY/Sk1DPzQBxD9aylA/2LVXPyHPUT82KqY/IVltPy2igT9rHIU/EdWmP9WRFz+DJjk/xO1OP5XAzT9uPo4/Y8qgP5zFnz/u8Nk/sIa/P+b5uT9eO7M/VBsJQOjH5z90r+A/ujDtP+5EgUCWDShAU+kWQFBhEkCvzKRAsURMQLM7TEDt1zhAccqsQCc5M0ADhSFA7YEmQA==",
          "dtype": "f4"
         },
         "yaxis": "y"
        },
        {
         "hovertemplate": "variable=10m Meridional Wind [m s-1]<br>time=%{x}<br>value=%{y}<extra></extra>",
         "legendgroup": "10m Meridional Wind [m s-1]",
         "line": {
          "color": "#FF7F0E",
          "dash": "solid",
          "width": 3
         },
         "marker": {
          "symbol": "circle"
         },
         "mode": "lines",
         "name": "10m Meridional Wind [m s-1]",
         "orientation": "v",
         "showlegend": true,
         "type": "scatter",
         "x": [
          "1979-01-03T00:00:00.000000000",
          "1979-01-03T06:00:00.000000000",
          "1979-01-03T12:00:00.000000000",
          "1979-01-03T18:00:00.000000000",
          "1979-01-04T00:00:00.000000000",
          "1979-01-04T06:00:00.000000000",
          "1979-01-04T12:00:00.000000000",
          "1979-01-04T18:00:00.000000000",
          "1979-01-05T00:00:00.000000000",
          "1979-01-05T06:00:00.000000000",
          "1979-01-05T12:00:00.000000000",
          "1979-01-05T18:00:00.000000000",
          "1979-01-06T00:00:00.000000000",
          "1979-01-06T06:00:00.000000000",
          "1979-01-06T12:00:00.000000000",
          "1979-01-06T18:00:00.000000000",
          "1979-01-07T00:00:00.000000000",
          "1979-01-07T06:00:00.000000000",
          "1979-01-07T12:00:00.000000000",
          "1979-01-07T18:00:00.000000000",
          "1979-01-08T00:00:00.000000000",
          "1979-01-08T06:00:00.000000000",
          "1979-01-08T12:00:00.000000000",
          "1979-01-08T18:00:00.000000000",
          "1979-01-09T00:00:00.000000000",
          "1979-01-09T06:00:00.000000000",
          "1979-01-09T12:00:00.000000000",
          "1979-01-09T18:00:00.000000000",
          "1979-01-10T00:00:00.000000000",
          "1979-01-10T06:00:00.000000000",
          "1979-01-10T12:00:00.000000000",
          "1979-01-10T18:00:00.000000000",
          "1979-01-11T00:00:00.000000000",
          "1979-01-11T06:00:00.000000000",
          "1979-01-11T12:00:00.000000000",
          "1979-01-11T18:00:00.000000000",
          "1979-01-12T00:00:00.000000000",
          "1979-01-12T06:00:00.000000000",
          "1979-01-12T12:00:00.000000000",
          "1979-01-12T18:00:00.000000000",
          "1979-01-13T00:00:00.000000000",
          "1979-01-13T06:00:00.000000000",
          "1979-01-13T12:00:00.000000000",
          "1979-01-13T18:00:00.000000000",
          "1979-01-14T00:00:00.000000000",
          "1979-01-14T06:00:00.000000000",
          "1979-01-14T12:00:00.000000000",
          "1979-01-14T18:00:00.000000000",
          "1979-01-15T00:00:00.000000000",
          "1979-01-15T06:00:00.000000000",
          "1979-01-15T12:00:00.000000000",
          "1979-01-15T18:00:00.000000000",
          "1979-01-16T00:00:00.000000000",
          "1979-01-16T06:00:00.000000000",
          "1979-01-16T12:00:00.000000000",
          "1979-01-16T18:00:00.000000000",
          "1979-01-17T00:00:00.000000000",
          "1979-01-17T06:00:00.000000000",
          "1979-01-17T12:00:00.000000000",
          "1979-01-17T18:00:00.000000000",
          "1979-01-18T00:00:00.000000000"
         ],
         "xaxis": "x",
         "y": {
          "bdata": "ANdcP9J+yT9TwIg/rFwhPzBx1D6efjg+hrh+PYOOlT5Wcuc9zuWovnh2nb8830C/TD8dv+GlHcD+ZMy/TpguvyiVhb5KRAs+TwkMPg1Kpz4w3Ik+hgeDvopSxb7Q7yq9Mr/nPSx1qT7YwEg+oCi2PmI5kj7AVDy+AHwBv+xM5L7kGQ2/zfD9v3afCr94uFo+faSiPlooKz9F8vE+Ov0oPxmaKD8ajFk/2UMkP3okSz/HH04/YO6uP/6twj8wY9A/IBHDP//mRUDuGyBAu/YVQMvPCkDmS6dAIDx3QLrxYkCsBjZASB5PQGs3GUCiH/k/1JPsPw==",
          "dtype": "f4"
         },
         "yaxis": "y"
        },
        {
         "hovertemplate": "variable=2m Temperature [K]<br>time=%{x}<br>value=%{y}<extra></extra>",
         "legendgroup": "2m Temperature [K]",
         "line": {
          "color": "#2CA02C",
          "dash": "solid",
          "width": 3
         },
         "marker": {
          "symbol": "circle"
         },
         "mode": "lines",
         "name": "2m Temperature [K]",
         "orientation": "v",
         "showlegend": true,
         "type": "scatter",
         "x": [
          "1979-01-03T00:00:00.000000000",
          "1979-01-03T06:00:00.000000000",
          "1979-01-03T12:00:00.000000000",
          "1979-01-03T18:00:00.000000000",
          "1979-01-04T00:00:00.000000000",
          "1979-01-04T06:00:00.000000000",
          "1979-01-04T12:00:00.000000000",
          "1979-01-04T18:00:00.000000000",
          "1979-01-05T00:00:00.000000000",
          "1979-01-05T06:00:00.000000000",
          "1979-01-05T12:00:00.000000000",
          "1979-01-05T18:00:00.000000000",
          "1979-01-06T00:00:00.000000000",
          "1979-01-06T06:00:00.000000000",
          "1979-01-06T12:00:00.000000000",
          "1979-01-06T18:00:00.000000000",
          "1979-01-07T00:00:00.000000000",
          "1979-01-07T06:00:00.000000000",
          "1979-01-07T12:00:00.000000000",
          "1979-01-07T18:00:00.000000000",
          "1979-01-08T00:00:00.000000000",
          "1979-01-08T06:00:00.000000000",
          "1979-01-08T12:00:00.000000000",
          "1979-01-08T18:00:00.000000000",
          "1979-01-09T00:00:00.000000000",
          "1979-01-09T06:00:00.000000000",
          "1979-01-09T12:00:00.000000000",
          "1979-01-09T18:00:00.000000000",
          "1979-01-10T00:00:00.000000000",
          "1979-01-10T06:00:00.000000000",
          "1979-01-10T12:00:00.000000000",
          "1979-01-10T18:00:00.000000000",
          "1979-01-11T00:00:00.000000000",
          "1979-01-11T06:00:00.000000000",
          "1979-01-11T12:00:00.000000000",
          "1979-01-11T18:00:00.000000000",
          "1979-01-12T00:00:00.000000000",
          "1979-01-12T06:00:00.000000000",
          "1979-01-12T12:00:00.000000000",
          "1979-01-12T18:00:00.000000000",
          "1979-01-13T00:00:00.000000000",
          "1979-01-13T06:00:00.000000000",
          "1979-01-13T12:00:00.000000000",
          "1979-01-13T18:00:00.000000000",
          "1979-01-14T00:00:00.000000000",
          "1979-01-14T06:00:00.000000000",
          "1979-01-14T12:00:00.000000000",
          "1979-01-14T18:00:00.000000000",
          "1979-01-15T00:00:00.000000000",
          "1979-01-15T06:00:00.000000000",
          "1979-01-15T12:00:00.000000000",
          "1979-01-15T18:00:00.000000000",
          "1979-01-16T00:00:00.000000000",
          "1979-01-16T06:00:00.000000000",
          "1979-01-16T12:00:00.000000000",
          "1979-01-16T18:00:00.000000000",
          "1979-01-17T00:00:00.000000000",
          "1979-01-17T06:00:00.000000000",
          "1979-01-17T12:00:00.000000000",
          "1979-01-17T18:00:00.000000000",
          "1979-01-18T00:00:00.000000000"
         ],
         "xaxis": "x",
         "y": {
          "bdata": "q+V6QxjzhENp1IJD8H6AQ4D+fkMjAIVD8PiCQwrVgENYQn9DPjeEQ3j+gUPZ7n5D9Kt7QxLFgUPxCH9DFnh6QxTCd0P7qoFDVXyAQzGjfkMYXH5DnBeEQ0glgkOpi4BDcGt/Qz7OhEPgCoNDkJCBQybfgEN+w4VDwluDQ+dEgUP2j39DxJeDQ/5egUNCNIBD9S6AQ/mahUNiloNDDqSBQ7nQgENbe4ZDnxOEQxVYgkNnlIFDawCHQ1RshEPGOIJDFjmBQyfuhkNiloNDqqaBQ6B6gEMT8YVD2TWDQz4UgkMczoBD+9aFQ06ZgkMGtIBD2WB/Qw==",
          "dtype": "f4"
         },
         "yaxis": "y"
        },
        {
         "hovertemplate": "variable=Mean Sea Level Pressure [Pa]<br>time=%{x}<br>value=%{y}<extra></extra>",
         "legendgroup": "Mean Sea Level Pressure [Pa]",
         "line": {
          "color": "#D62728",
          "dash": "solid",
          "width": 3
         },
         "marker": {
          "symbol": "circle"
         },
         "mode": "lines",
         "name": "Mean Sea Level Pressure [Pa]",
         "orientation": "v",
         "showlegend": true,
         "type": "scatter",
         "x": [
          "1979-01-03T00:00:00.000000000",
          "1979-01-03T06:00:00.000000000",
          "1979-01-03T12:00:00.000000000",
          "1979-01-03T18:00:00.000000000",
          "1979-01-04T00:00:00.000000000",
          "1979-01-04T06:00:00.000000000",
          "1979-01-04T12:00:00.000000000",
          "1979-01-04T18:00:00.000000000",
          "1979-01-05T00:00:00.000000000",
          "1979-01-05T06:00:00.000000000",
          "1979-01-05T12:00:00.000000000",
          "1979-01-05T18:00:00.000000000",
          "1979-01-06T00:00:00.000000000",
          "1979-01-06T06:00:00.000000000",
          "1979-01-06T12:00:00.000000000",
          "1979-01-06T18:00:00.000000000",
          "1979-01-07T00:00:00.000000000",
          "1979-01-07T06:00:00.000000000",
          "1979-01-07T12:00:00.000000000",
          "1979-01-07T18:00:00.000000000",
          "1979-01-08T00:00:00.000000000",
          "1979-01-08T06:00:00.000000000",
          "1979-01-08T12:00:00.000000000",
          "1979-01-08T18:00:00.000000000",
          "1979-01-09T00:00:00.000000000",
          "1979-01-09T06:00:00.000000000",
          "1979-01-09T12:00:00.000000000",
          "1979-01-09T18:00:00.000000000",
          "1979-01-10T00:00:00.000000000",
          "1979-01-10T06:00:00.000000000",
          "1979-01-10T12:00:00.000000000",
          "1979-01-10T18:00:00.000000000",
          "1979-01-11T00:00:00.000000000",
          "1979-01-11T06:00:00.000000000",
          "1979-01-11T12:00:00.000000000",
          "1979-01-11T18:00:00.000000000",
          "1979-01-12T00:00:00.000000000",
          "1979-01-12T06:00:00.000000000",
          "1979-01-12T12:00:00.000000000",
          "1979-01-12T18:00:00.000000000",
          "1979-01-13T00:00:00.000000000",
          "1979-01-13T06:00:00.000000000",
          "1979-01-13T12:00:00.000000000",
          "1979-01-13T18:00:00.000000000",
          "1979-01-14T00:00:00.000000000",
          "1979-01-14T06:00:00.000000000",
          "1979-01-14T12:00:00.000000000",
          "1979-01-14T18:00:00.000000000",
          "1979-01-15T00:00:00.000000000",
          "1979-01-15T06:00:00.000000000",
          "1979-01-15T12:00:00.000000000",
          "1979-01-15T18:00:00.000000000",
          "1979-01-16T00:00:00.000000000",
          "1979-01-16T06:00:00.000000000",
          "1979-01-16T12:00:00.000000000",
          "1979-01-16T18:00:00.000000000",
          "1979-01-17T00:00:00.000000000",
          "1979-01-17T06:00:00.000000000",
          "1979-01-17T12:00:00.000000000",
          "1979-01-17T18:00:00.000000000",
          "1979-01-18T00:00:00.000000000"
         ],
         "xaxis": "x",
         "y": {
          "bdata": "UPrIRwXvxkfalMZHNWLHR5PNx0cKssZHWVfGR1/rxkcnbcdH16DGRxhTx0fO7chHb9rJR3eRyUcbyMpHk/rLR8Y2zEcx88lH6d3IR0DmyEfBzchHrHPHR2uBx0eWMchHzIzIR4iQx0c3c8dHmCjIR0x3yEf8qsdH/NXHRzMCyUfP1clH1WfJRxNwyUfOeMlH6gzJR8yAx0fUN8dHBKvHR8i6x0f5f8ZHdFTGR/DOxkeetMZHO4TFR1bzxEc1RsVHXijFRzjlw0cDW8RHTw7FR8IrxUf7p8NHk+HDR2yixEd1gMVHPQDFR6POxUdI1MZHsBvHRw==",
          "dtype": "f4"
         },
         "yaxis": "y"
        },
        {
         "hovertemplate": "variable=6-Hour Total Precipitation [m]<br>time=%{x}<br>value=%{y}<extra></extra>",
         "legendgroup": "6-Hour Total Precipitation [m]",
         "line": {
          "color": "#9467BD",
          "dash": "solid",
          "width": 3
         },
         "marker": {
          "symbol": "circle"
         },
         "mode": "lines",
         "name": "6-Hour Total Precipitation [m]",
         "orientation": "v",
         "showlegend": true,
         "type": "scatter",
         "x": [
          "1979-01-03T00:00:00.000000000",
          "1979-01-03T06:00:00.000000000",
          "1979-01-03T12:00:00.000000000",
          "1979-01-03T18:00:00.000000000",
          "1979-01-04T00:00:00.000000000",
          "1979-01-04T06:00:00.000000000",
          "1979-01-04T12:00:00.000000000",
          "1979-01-04T18:00:00.000000000",
          "1979-01-05T00:00:00.000000000",
          "1979-01-05T06:00:00.000000000",
          "1979-01-05T12:00:00.000000000",
          "1979-01-05T18:00:00.000000000",
          "1979-01-06T00:00:00.000000000",
          "1979-01-06T06:00:00.000000000",
          "1979-01-06T12:00:00.000000000",
          "1979-01-06T18:00:00.000000000",
          "1979-01-07T00:00:00.000000000",
          "1979-01-07T06:00:00.000000000",
          "1979-01-07T12:00:00.000000000",
          "1979-01-07T18:00:00.000000000",
          "1979-01-08T00:00:00.000000000",
          "1979-01-08T06:00:00.000000000",
          "1979-01-08T12:00:00.000000000",
          "1979-01-08T18:00:00.000000000",
          "1979-01-09T00:00:00.000000000",
          "1979-01-09T06:00:00.000000000",
          "1979-01-09T12:00:00.000000000",
          "1979-01-09T18:00:00.000000000",
          "1979-01-10T00:00:00.000000000",
          "1979-01-10T06:00:00.000000000",
          "1979-01-10T12:00:00.000000000",
          "1979-01-10T18:00:00.000000000",
          "1979-01-11T00:00:00.000000000",
          "1979-01-11T06:00:00.000000000",
          "1979-01-11T12:00:00.000000000",
          "1979-01-11T18:00:00.000000000",
          "1979-01-12T00:00:00.000000000",
          "1979-01-12T06:00:00.000000000",
          "1979-01-12T12:00:00.000000000",
          "1979-01-12T18:00:00.000000000",
          "1979-01-13T00:00:00.000000000",
          "1979-01-13T06:00:00.000000000",
          "1979-01-13T12:00:00.000000000",
          "1979-01-13T18:00:00.000000000",
          "1979-01-14T00:00:00.000000000",
          "1979-01-14T06:00:00.000000000",
          "1979-01-14T12:00:00.000000000",
          "1979-01-14T18:00:00.000000000",
          "1979-01-15T00:00:00.000000000",
          "1979-01-15T06:00:00.000000000",
          "1979-01-15T12:00:00.000000000",
          "1979-01-15T18:00:00.000000000",
          "1979-01-16T00:00:00.000000000",
          "1979-01-16T06:00:00.000000000",
          "1979-01-16T12:00:00.000000000",
          "1979-01-16T18:00:00.000000000",
          "1979-01-17T00:00:00.000000000",
          "1979-01-17T06:00:00.000000000",
          "1979-01-17T12:00:00.000000000",
          "1979-01-17T18:00:00.000000000",
          "1979-01-18T00:00:00.000000000"
         ],
         "xaxis": "x",
         "y": {
          "bdata": "AADAf4ATjjeA7Yu4AODNN2DJFjgAqOc1gLfwt6CvNjgoBMM4gHAit4C8JjhUaAE5gLwmOIC38LcAjhw3gBOON4BwIrdgG0i4YBtIuMAEkbeAE443gLfwt4AOWLhAxu03gLwmOAA9YrdAKDi4QMbtN0DWBjjABJG3gA5YuEDG7TdA1gY4oAFouPDzg7hAxu03wPmtN0AoOLigAWi4AEjFtkDG7TegAWi4AEIYuMD5rTdgyRY4oAFouEAoOLiAcCK30KJGOIATjjdAxu03QMbtN/CVVjiAt/C3AAt1OV5LJTmoN4M4gO2LuMD5rTcAXgu2AI4cNw==",
          "dtype": "f4"
         },
         "yaxis": "y"
        }
       ],
       "layout": {
        "font": {
         "size": 18
        },
        "legend": {
         "orientation": "v",
         "title": {
          "text": "variable"
         },
         "tracegroupgap": 0,
         "y": 1.1
        },
        "margin": {
         "t": 60
        },
        "template": {
         "data": {
          "bar": [
           {
            "error_x": {
             "color": "rgb(36,36,36)"
            },
            "error_y": {
             "color": "rgb(36,36,36)"
            },
            "marker": {
             "line": {
              "color": "white",
              "width": 0.5
             },
             "pattern": {
              "fillmode": "overlay",
              "size": 10,
              "solidity": 0.2
             }
            },
            "type": "bar"
           }
          ],
          "barpolar": [
           {
            "marker": {
             "line": {
              "color": "white",
              "width": 0.5
             },
             "pattern": {
              "fillmode": "overlay",
              "size": 10,
              "solidity": 0.2
             }
            },
            "type": "barpolar"
           }
          ],
          "carpet": [
           {
            "aaxis": {
             "endlinecolor": "rgb(36,36,36)",
             "gridcolor": "white",
             "linecolor": "white",
             "minorgridcolor": "white",
             "startlinecolor": "rgb(36,36,36)"
            },
            "baxis": {
             "endlinecolor": "rgb(36,36,36)",
             "gridcolor": "white",
             "linecolor": "white",
             "minorgridcolor": "white",
             "startlinecolor": "rgb(36,36,36)"
            },
            "type": "carpet"
           }
          ],
          "choropleth": [
           {
            "colorbar": {
             "outlinewidth": 1,
             "tickcolor": "rgb(36,36,36)",
             "ticks": "outside"
            },
            "type": "choropleth"
           }
          ],
          "contour": [
           {
            "colorbar": {
             "outlinewidth": 1,
             "tickcolor": "rgb(36,36,36)",
             "ticks": "outside"
            },
            "colorscale": [
             [
              0,
              "#440154"
             ],
             [
              0.1111111111111111,
              "#482878"
             ],
             [
              0.2222222222222222,
              "#3e4989"
             ],
             [
              0.3333333333333333,
              "#31688e"
             ],
             [
              0.4444444444444444,
              "#26828e"
             ],
             [
              0.5555555555555556,
              "#1f9e89"
             ],
             [
              0.6666666666666666,
              "#35b779"
             ],
             [
              0.7777777777777778,
              "#6ece58"
             ],
             [
              0.8888888888888888,
              "#b5de2b"
             ],
             [
              1,
              "#fde725"
             ]
            ],
            "type": "contour"
           }
          ],
          "contourcarpet": [
           {
            "colorbar": {
             "outlinewidth": 1,
             "tickcolor": "rgb(36,36,36)",
             "ticks": "outside"
            },
            "type": "contourcarpet"
           }
          ],
          "heatmap": [
           {
            "colorbar": {
             "outlinewidth": 1,
             "tickcolor": "rgb(36,36,36)",
             "ticks": "outside"
            },
            "colorscale": [
             [
              0,
              "#440154"
             ],
             [
              0.1111111111111111,
              "#482878"
             ],
             [
              0.2222222222222222,
              "#3e4989"
             ],
             [
              0.3333333333333333,
              "#31688e"
             ],
             [
              0.4444444444444444,
              "#26828e"
             ],
             [
              0.5555555555555556,
              "#1f9e89"
             ],
             [
              0.6666666666666666,
              "#35b779"
             ],
             [
              0.7777777777777778,
              "#6ece58"
             ],
             [
              0.8888888888888888,
              "#b5de2b"
             ],
             [
              1,
              "#fde725"
             ]
            ],
            "type": "heatmap"
           }
          ],
          "histogram": [
           {
            "marker": {
             "line": {
              "color": "white",
              "width": 0.6
             }
            },
            "type": "histogram"
           }
          ],
          "histogram2d": [
           {
            "colorbar": {
             "outlinewidth": 1,
             "tickcolor": "rgb(36,36,36)",
             "ticks": "outside"
            },
            "colorscale": [
             [
              0,
              "#440154"
             ],
             [
              0.1111111111111111,
              "#482878"
             ],
             [
              0.2222222222222222,
              "#3e4989"
             ],
             [
              0.3333333333333333,
              "#31688e"
             ],
             [
              0.4444444444444444,
              "#26828e"
             ],
             [
              0.5555555555555556,
              "#1f9e89"
             ],
             [
              0.6666666666666666,
              "#35b779"
             ],
             [
              0.7777777777777778,
              "#6ece58"
             ],
             [
              0.8888888888888888,
              "#b5de2b"
             ],
             [
              1,
              "#fde725"
             ]
            ],
            "type": "histogram2d"
           }
          ],
          "histogram2dcontour": [
           {
            "colorbar": {
             "outlinewidth": 1,
             "tickcolor": "rgb(36,36,36)",
             "ticks": "outside"
            },
            "colorscale": [
             [
              0,
              "#440154"
             ],
             [
              0.1111111111111111,
              "#482878"
             ],
             [
              0.2222222222222222,
              "#3e4989"
             ],
             [
              0.3333333333333333,
              "#31688e"
             ],
             [
              0.4444444444444444,
              "#26828e"
             ],
             [
              0.5555555555555556,
              "#1f9e89"
             ],
             [
              0.6666666666666666,
              "#35b779"
             ],
             [
              0.7777777777777778,
              "#6ece58"
             ],
             [
              0.8888888888888888,
              "#b5de2b"
             ],
             [
              1,
              "#fde725"
             ]
            ],
            "type": "histogram2dcontour"
           }
          ],
          "mesh3d": [
           {
            "colorbar": {
             "outlinewidth": 1,
             "tickcolor": "rgb(36,36,36)",
             "ticks": "outside"
            },
            "type": "mesh3d"
           }
          ],
          "parcoords": [
           {
            "line": {
             "colorbar": {
              "outlinewidth": 1,
              "tickcolor": "rgb(36,36,36)",
              "ticks": "outside"
             }
            },
            "type": "parcoords"
           }
          ],
          "pie": [
           {
            "automargin": true,
            "type": "pie"
           }
          ],
          "scatter": [
           {
            "fillpattern": {
             "fillmode": "overlay",
             "size": 10,
             "solidity": 0.2
            },
            "type": "scatter"
           }
          ],
          "scatter3d": [
           {
            "line": {
             "colorbar": {
              "outlinewidth": 1,
              "tickcolor": "rgb(36,36,36)",
              "ticks": "outside"
             }
            },
            "marker": {
             "colorbar": {
              "outlinewidth": 1,
              "tickcolor": "rgb(36,36,36)",
              "ticks": "outside"
             }
            },
            "type": "scatter3d"
           }
          ],
          "scattercarpet": [
           {
            "marker": {
             "colorbar": {
              "outlinewidth": 1,
              "tickcolor": "rgb(36,36,36)",
              "ticks": "outside"
             }
            },
            "type": "scattercarpet"
           }
          ],
          "scattergeo": [
           {
            "marker": {
             "colorbar": {
              "outlinewidth": 1,
              "tickcolor": "rgb(36,36,36)",
              "ticks": "outside"
             }
            },
            "type": "scattergeo"
           }
          ],
          "scattergl": [
           {
            "marker": {
             "colorbar": {
              "outlinewidth": 1,
              "tickcolor": "rgb(36,36,36)",
              "ticks": "outside"
             }
            },
            "type": "scattergl"
           }
          ],
          "scattermap": [
           {
            "marker": {
             "colorbar": {
              "outlinewidth": 1,
              "tickcolor": "rgb(36,36,36)",
              "ticks": "outside"
             }
            },
            "type": "scattermap"
           }
          ],
          "scattermapbox": [
           {
            "marker": {
             "colorbar": {
              "outlinewidth": 1,
              "tickcolor": "rgb(36,36,36)",
              "ticks": "outside"
             }
            },
            "type": "scattermapbox"
           }
          ],
          "scatterpolar": [
           {
            "marker": {
             "colorbar": {
              "outlinewidth": 1,
              "tickcolor": "rgb(36,36,36)",
              "ticks": "outside"
             }
            },
            "type": "scatterpolar"
           }
          ],
          "scatterpolargl": [
           {
            "marker": {
             "colorbar": {
              "outlinewidth": 1,
              "tickcolor": "rgb(36,36,36)",
              "ticks": "outside"
             }
            },
            "type": "scatterpolargl"
           }
          ],
          "scatterternary": [
           {
            "marker": {
             "colorbar": {
              "outlinewidth": 1,
              "tickcolor": "rgb(36,36,36)",
              "ticks": "outside"
             }
            },
            "type": "scatterternary"
           }
          ],
          "surface": [
           {
            "colorbar": {
             "outlinewidth": 1,
             "tickcolor": "rgb(36,36,36)",
             "ticks": "outside"
            },
            "colorscale": [
             [
              0,
              "#440154"
             ],
             [
              0.1111111111111111,
              "#482878"
             ],
             [
              0.2222222222222222,
              "#3e4989"
             ],
             [
              0.3333333333333333,
              "#31688e"
             ],
             [
              0.4444444444444444,
              "#26828e"
             ],
             [
              0.5555555555555556,
              "#1f9e89"
             ],
             [
              0.6666666666666666,
              "#35b779"
             ],
             [
              0.7777777777777778,
              "#6ece58"
             ],
             [
              0.8888888888888888,
              "#b5de2b"
             ],
             [
              1,
              "#fde725"
             ]
            ],
            "type": "surface"
           }
          ],
          "table": [
           {
            "cells": {
             "fill": {
              "color": "rgb(237,237,237)"
             },
             "line": {
              "color": "white"
             }
            },
            "header": {
             "fill": {
              "color": "rgb(217,217,217)"
             },
             "line": {
              "color": "white"
             }
            },
            "type": "table"
           }
          ]
         },
         "layout": {
          "annotationdefaults": {
           "arrowhead": 0,
           "arrowwidth": 1
          },
          "autotypenumbers": "strict",
          "coloraxis": {
           "colorbar": {
            "outlinewidth": 1,
            "tickcolor": "rgb(36,36,36)",
            "ticks": "outside"
           }
          },
          "colorscale": {
           "diverging": [
            [
             0,
             "rgb(103,0,31)"
            ],
            [
             0.1,
             "rgb(178,24,43)"
            ],
            [
             0.2,
             "rgb(214,96,77)"
            ],
            [
             0.3,
             "rgb(244,165,130)"
            ],
            [
             0.4,
             "rgb(253,219,199)"
            ],
            [
             0.5,
             "rgb(247,247,247)"
            ],
            [
             0.6,
             "rgb(209,229,240)"
            ],
            [
             0.7,
             "rgb(146,197,222)"
            ],
            [
             0.8,
             "rgb(67,147,195)"
            ],
            [
             0.9,
             "rgb(33,102,172)"
            ],
            [
             1,
             "rgb(5,48,97)"
            ]
           ],
           "sequential": [
            [
             0,
             "#440154"
            ],
            [
             0.1111111111111111,
             "#482878"
            ],
            [
             0.2222222222222222,
             "#3e4989"
            ],
            [
             0.3333333333333333,
             "#31688e"
            ],
            [
             0.4444444444444444,
             "#26828e"
            ],
            [
             0.5555555555555556,
             "#1f9e89"
            ],
            [
             0.6666666666666666,
             "#35b779"
            ],
            [
             0.7777777777777778,
             "#6ece58"
            ],
            [
             0.8888888888888888,
             "#b5de2b"
            ],
            [
             1,
             "#fde725"
            ]
           ],
           "sequentialminus": [
            [
             0,
             "#440154"
            ],
            [
             0.1111111111111111,
             "#482878"
            ],
            [
             0.2222222222222222,
             "#3e4989"
            ],
            [
             0.3333333333333333,
             "#31688e"
            ],
            [
             0.4444444444444444,
             "#26828e"
            ],
            [
             0.5555555555555556,
             "#1f9e89"
            ],
            [
             0.6666666666666666,
             "#35b779"
            ],
            [
             0.7777777777777778,
             "#6ece58"
            ],
            [
             0.8888888888888888,
             "#b5de2b"
            ],
            [
             1,
             "#fde725"
            ]
           ]
          },
          "colorway": [
           "#1F77B4",
           "#FF7F0E",
           "#2CA02C",
           "#D62728",
           "#9467BD",
           "#8C564B",
           "#E377C2",
           "#7F7F7F",
           "#BCBD22",
           "#17BECF"
          ],
          "font": {
           "color": "rgb(36,36,36)"
          },
          "geo": {
           "bgcolor": "white",
           "lakecolor": "white",
           "landcolor": "white",
           "showlakes": true,
           "showland": true,
           "subunitcolor": "white"
          },
          "hoverlabel": {
           "align": "left"
          },
          "hovermode": "closest",
          "mapbox": {
           "style": "light"
          },
          "paper_bgcolor": "white",
          "plot_bgcolor": "white",
          "polar": {
           "angularaxis": {
            "gridcolor": "rgb(232,232,232)",
            "linecolor": "rgb(36,36,36)",
            "showgrid": false,
            "showline": true,
            "ticks": "outside"
           },
           "bgcolor": "white",
           "radialaxis": {
            "gridcolor": "rgb(232,232,232)",
            "linecolor": "rgb(36,36,36)",
            "showgrid": false,
            "showline": true,
            "ticks": "outside"
           }
          },
          "scene": {
           "xaxis": {
            "backgroundcolor": "white",
            "gridcolor": "rgb(232,232,232)",
            "gridwidth": 2,
            "linecolor": "rgb(36,36,36)",
            "showbackground": true,
            "showgrid": false,
            "showline": true,
            "ticks": "outside",
            "zeroline": false,
            "zerolinecolor": "rgb(36,36,36)"
           },
           "yaxis": {
            "backgroundcolor": "white",
            "gridcolor": "rgb(232,232,232)",
            "gridwidth": 2,
            "linecolor": "rgb(36,36,36)",
            "showbackground": true,
            "showgrid": false,
            "showline": true,
            "ticks": "outside",
            "zeroline": false,
            "zerolinecolor": "rgb(36,36,36)"
           },
           "zaxis": {
            "backgroundcolor": "white",
            "gridcolor": "rgb(232,232,232)",
            "gridwidth": 2,
            "linecolor": "rgb(36,36,36)",
            "showbackground": true,
            "showgrid": false,
            "showline": true,
            "ticks": "outside",
            "zeroline": false,
            "zerolinecolor": "rgb(36,36,36)"
           }
          },
          "shapedefaults": {
           "fillcolor": "black",
           "line": {
            "width": 0
           },
           "opacity": 0.3
          },
          "ternary": {
           "aaxis": {
            "gridcolor": "rgb(232,232,232)",
            "linecolor": "rgb(36,36,36)",
            "showgrid": false,
            "showline": true,
            "ticks": "outside"
           },
           "baxis": {
            "gridcolor": "rgb(232,232,232)",
            "linecolor": "rgb(36,36,36)",
            "showgrid": false,
            "showline": true,
            "ticks": "outside"
           },
           "bgcolor": "white",
           "caxis": {
            "gridcolor": "rgb(232,232,232)",
            "linecolor": "rgb(36,36,36)",
            "showgrid": false,
            "showline": true,
            "ticks": "outside"
           }
          },
          "title": {
           "x": 0.05
          },
          "xaxis": {
           "automargin": true,
           "gridcolor": "rgb(232,232,232)",
           "linecolor": "rgb(36,36,36)",
           "showgrid": false,
           "showline": true,
           "ticks": "outside",
           "title": {
            "standoff": 15
           },
           "zeroline": false,
           "zerolinecolor": "rgb(36,36,36)"
          },
          "yaxis": {
           "automargin": true,
           "gridcolor": "rgb(232,232,232)",
           "linecolor": "rgb(36,36,36)",
           "showgrid": false,
           "showline": true,
           "ticks": "outside",
           "title": {
            "standoff": 15
           },
           "zeroline": false,
           "zerolinecolor": "rgb(36,36,36)"
          }
         }
        },
        "title": {
         "text": "Surface variables for lat=30.25,lon=97.75"
        },
        "xaxis": {
         "anchor": "y",
         "domain": [
          0,
          1
         ],
         "linewidth": 2,
         "title": {
          "text": "time"
         }
        },
        "yaxis": {
         "anchor": "x",
         "domain": [
          0,
          1
         ],
         "linewidth": 2,
         "title": {
          "text": "value"
         }
        }
       }
      }
     },
     "metadata": {},
     "output_type": "display_data"
    }
   ],
   "source": [
    "fig = subset.to_pandas().drop(columns=['lat','lon']).rename(columns=name_map).plot(template='simple_white')\n",
    "fig.update_traces(\n",
    "    line_width=3\n",
    ")\n",
    "fig.update_layout(\n",
    "    xaxis_linewidth = 2,\n",
    "    yaxis_linewidth = 2,\n",
    "    font_size = 18,\n",
    "    # autosize=False,\n",
    "    legend_orientation='v',\n",
    "    legend_y=1.10,\n",
    "    title=f'Surface variables for lat={lat},lon={lon}'\n",
    ")"
   ]
  },
  {
   "cell_type": "code",
   "execution_count": 10,
   "id": "26e25987",
   "metadata": {},
   "outputs": [
    {
     "data": {
      "text/plain": [
       "1266690300"
      ]
     },
     "execution_count": 10,
     "metadata": {},
     "output_type": "execute_result"
    }
   ],
   "source": [
    "os.path.getsize('/scratch/09295/naveens/hindcast/1979/surface_variables_1979-01-01.nc')"
   ]
  },
  {
   "cell_type": "code",
   "execution_count": 11,
   "id": "3a05fd12",
   "metadata": {},
   "outputs": [],
   "source": [
    "reader.dsets['surface_variables'].to_netcdf(f'{SCRATCH}/hindcast/test.nc',engine='h5netcdf')"
   ]
  },
  {
   "cell_type": "code",
   "execution_count": 12,
   "id": "e493da3b",
   "metadata": {},
   "outputs": [
    {
     "data": {
      "text/plain": [
       "1266692616"
      ]
     },
     "execution_count": 12,
     "metadata": {},
     "output_type": "execute_result"
    }
   ],
   "source": [
    "os.path.getsize(f'{SCRATCH}/hindcast/test.nc')"
   ]
  },
  {
   "cell_type": "code",
   "execution_count": 13,
   "id": "c5ce61bb",
   "metadata": {},
   "outputs": [
    {
     "data": {
      "text/plain": [
       "{'u10m': {'compression': 'zlib', 'shuffle': True, 'complevel': 5},\n",
       " 'v10m': {'compression': 'zlib', 'shuffle': True, 'complevel': 5},\n",
       " 't2m': {'compression': 'zlib', 'shuffle': True, 'complevel': 5},\n",
       " 'msl': {'compression': 'zlib', 'shuffle': True, 'complevel': 5},\n",
       " 'tp06': {'compression': 'zlib', 'shuffle': True, 'complevel': 5}}"
      ]
     },
     "execution_count": 13,
     "metadata": {},
     "output_type": "execute_result"
    }
   ],
   "source": [
    "compression_params = {var:dict(compression='zlib',shuffle=True,complevel=5) for var in reader.dsets['surface_variables'].data_vars}\n",
    "compression_params"
   ]
  },
  {
   "cell_type": "code",
   "execution_count": 14,
   "id": "63ac7d61",
   "metadata": {},
   "outputs": [
    {
     "data": {
      "text/plain": [
       "{'chunksizes': None,\n",
       " 'fletcher32': False,\n",
       " 'shuffle': False,\n",
       " 'source': '/scratch/09295/naveens/hindcast/1979/surface_variables_1979-01-03.nc',\n",
       " 'original_shape': (61, 721, 1440),\n",
       " 'dtype': dtype('<f4'),\n",
       " '_FillValue': np.float32(nan)}"
      ]
     },
     "execution_count": 14,
     "metadata": {},
     "output_type": "execute_result"
    }
   ],
   "source": [
    "reader.dsets['surface_variables'].u10m.encoding"
   ]
  },
  {
   "cell_type": "code",
   "execution_count": 15,
   "id": "0ee0d98c",
   "metadata": {},
   "outputs": [
    {
     "name": "stdout",
     "output_type": "stream",
     "text": [
      "zlib:777185556\n",
      "szip:800693725\n",
      "zstd:895766455\n",
      "bzip2:838796927\n",
      "blosc_lz:882472490\n",
      "blosc_lz4:870625281\n",
      "blosc_lz4hc:804130980\n",
      "blosc_zlib:777650881\n",
      "blosc_zstd:790535009\n"
     ]
    }
   ],
   "source": [
    "for algo in ['zlib','szip','zstd','bzip2','blosc_lz','blosc_lz4','blosc_lz4hc', 'blosc_zlib' ,'blosc_zstd']:\n",
    "    try:\n",
    "        compression_params = {var:dict(compression=algo,shuffle=True,complevel=5) for var in reader.dsets['surface_variables'].data_vars}\n",
    "        reader.dsets['surface_variables'].to_netcdf(f'{SCRATCH}/hindcast/test4.nc',format='NETCDF4',engine='netcdf4',encoding=compression_params)\n",
    "        print(f'{algo}:{os.path.getsize(f'{SCRATCH}/hindcast/test4.nc')}')\n",
    "    except:\n",
    "        pass"
   ]
  },
  {
   "cell_type": "code",
   "execution_count": 16,
   "id": "bca6c318",
   "metadata": {},
   "outputs": [],
   "source": [
    "compression_params2 = {var:dict(compression='zstd',shuffle=True,complevel=5) for var in reader.dsets['surface_variables'].data_vars}\n",
    "compression_params2\n",
    "reader.dsets['surface_variables'].to_netcdf(f'{SCRATCH}/hindcast/test5.nc',format='NETCDF4',engine='h5netcdf',encoding=compression_params2)\n",
    "os.path.getsize(f'{SCRATCH}/hindcast/test5.nc')"
   ]
  },
  {
   "cell_type": "code",
   "execution_count": null,
   "id": "78cc6d45",
   "metadata": {},
   "outputs": [
    {
     "data": {
      "text/plain": [
       "0.38704759640142505"
      ]
     },
     "execution_count": 15,
     "metadata": {},
     "output_type": "execute_result"
    }
   ],
   "source": [
    "(1266690300-776420864)/1266690300\n"
   ]
  },
  {
   "cell_type": "code",
   "execution_count": null,
   "id": "fd468bd3",
   "metadata": {},
   "outputs": [
    {
     "data": {
      "text/plain": [
       "9"
      ]
     },
     "execution_count": 19,
     "metadata": {},
     "output_type": "execute_result"
    }
   ],
   "source": [
    "os.path.getsize(f'{SCRATCH}/hindcast/test3.zarr')"
   ]
  },
  {
   "cell_type": "code",
   "execution_count": null,
   "id": "5b9f8551",
   "metadata": {},
   "outputs": [],
   "source": [
    "xr.open_dataset(f\"{SCRATCH}/hindcast/test3.nc\").close()"
   ]
  },
  {
   "cell_type": "code",
   "execution_count": null,
   "id": "87dd5998",
   "metadata": {},
   "outputs": [],
   "source": []
  }
 ],
 "metadata": {
  "kernelspec": {
   "display_name": "Python 3 (ipykernel)",
   "language": "python",
   "name": "python3"
  }
 },
 "nbformat": 4,
 "nbformat_minor": 5
}
