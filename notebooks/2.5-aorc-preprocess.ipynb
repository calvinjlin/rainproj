{
 "cells": [
  {
   "cell_type": "code",
   "execution_count": null,
   "id": "d63a0079",
   "metadata": {},
   "outputs": [],
   "source": [
    "from rainproj.aorc import run_download3, _prep_download\n",
    "import os\n",
    "\n",
    "WORK = os.environ.get('WORK')\n",
    "SCRATCH = os.environ.get('SCRATCH')"
   ]
  },
  {
   "cell_type": "code",
   "execution_count": null,
   "id": "a25fab14",
   "metadata": {},
   "outputs": [],
   "source": [
    "# ds = run_download3(output_dir=f'{SCRATCH}/hindcast/aorc_test2')\n",
    "ds = run_download3()"
   ]
  },
  {
   "cell_type": "code",
   "execution_count": 25,
   "id": "00e2337d",
   "metadata": {},
   "outputs": [],
   "source": [
    "def time_no_return(func):\n",
    "    @functools.wraps(func)\n",
    "    def wrapper(*args,**kwargs):\n",
    "        dateformat = \"%Y-%m-%d %H:%M:%S\"\n",
    "        start_time = datetime.now()\n",
    "        label = func(*args,**kwargs)\n",
    "        end_time = datetime.now()\n",
    "        elapsed = end_time-start_time\n",
    "        seconds = int(elapsed.total_seconds() % 60 )\n",
    "        minutes = int((elapsed.total_seconds() % 3600)/60)\n",
    "        hours = int(elapsed.total_seconds() / 3600)\n",
    "        return f'{end_time.strftime(dateformat)}: Done with {label}...Elapsed: {hours} hrs {minutes} min {seconds} sec, Started: {start_time.strftime(dateformat)}'\n",
    "    return wrapper"
   ]
  },
  {
   "cell_type": "code",
   "execution_count": null,
   "id": "89ef897e",
   "metadata": {},
   "outputs": [
    {
     "data": {
      "text/plain": [
       "APCP_surface    0.0\n",
       "dtype: float64"
      ]
     },
     "execution_count": 4,
     "metadata": {},
     "output_type": "execute_result"
    }
   ],
   "source": [
    "import pandas as pd\n",
    "\n",
    "pd.read_parquet(f'{WORK}/hindcast/aorc/1979-04.parquet').sum()"
   ]
  },
  {
   "cell_type": "code",
   "execution_count": null,
   "id": "1a40e00c",
   "metadata": {},
   "outputs": [],
   "source": []
  }
 ],
 "metadata": {
  "kernelspec": {
   "display_name": "Python 3 (ipykernel)",
   "language": "python",
   "name": "python3"
  },
  "language_info": {
   "codemirror_mode": {
    "name": "ipython",
    "version": 3
   },
   "file_extension": ".py",
   "mimetype": "text/x-python",
   "name": "python",
   "nbconvert_exporter": "python",
   "pygments_lexer": "ipython3",
   "version": "3.13.5"
  }
 },
 "nbformat": 4,
 "nbformat_minor": 5
}
