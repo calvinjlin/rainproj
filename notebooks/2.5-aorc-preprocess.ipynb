{
 "cells": [
  {
   "cell_type": "markdown",
   "id": "c662da6e",
   "metadata": {},
   "source": [
    "# AORC Preprocessing\n",
    "\n",
    "The purpose of this notebook is to read NOAA's Analysis of Record Calibration (AORC) data from a remote web location, process them, and export the precipitation into flat parquet files. Currently, this is still a work in progress due to memory errors."
   ]
  },
  {
   "cell_type": "code",
   "execution_count": null,
   "id": "d63a0079",
   "metadata": {},
   "outputs": [],
   "source": [
    "from rainproj.aorc import run_download3\n",
    "import os\n",
    "\n",
    "WORK = os.environ.get('WORK')\n",
    "SCRATCH = os.environ.get('SCRATCH')"
   ]
  },
  {
   "cell_type": "code",
   "execution_count": null,
   "id": "a25fab14",
   "metadata": {},
   "outputs": [],
   "source": [
    "# ds = run_download3(output_dir=f'{SCRATCH}/hindcast/aorc_test2')\n",
    "ds = run_download3()"
   ]
  },
  {
   "cell_type": "markdown",
   "id": "ac4c9a11",
   "metadata": {},
   "source": [
    "## Unused code\n",
    "***"
   ]
  },
  {
   "cell_type": "code",
   "execution_count": null,
   "id": "89ef897e",
   "metadata": {},
   "outputs": [
    {
     "data": {
      "text/plain": [
       "APCP_surface    0.0\n",
       "dtype: float64"
      ]
     },
     "execution_count": 4,
     "metadata": {},
     "output_type": "execute_result"
    }
   ],
   "source": [
    "import pandas as pd\n",
    "\n",
    "pd.read_parquet(f'{WORK}/hindcast/aorc/1979-04.parquet').sum()"
   ]
  }
 ],
 "metadata": {
  "kernelspec": {
   "display_name": "Python 3 (ipykernel)",
   "language": "python",
   "name": "python3"
  },
  "language_info": {
   "codemirror_mode": {
    "name": "ipython",
    "version": 3
   },
   "file_extension": ".py",
   "mimetype": "text/x-python",
   "name": "python",
   "nbconvert_exporter": "python",
   "pygments_lexer": "ipython3",
   "version": "3.13.5"
  }
 },
 "nbformat": 4,
 "nbformat_minor": 5
}
